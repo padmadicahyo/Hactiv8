{
  "cells": [
    {
      "cell_type": "markdown",
      "metadata": {
        "id": "ZUKN7lvcogRO"
      },
      "source": [
        "if condition :\n",
        "    Statement"
      ]
    },
    {
      "cell_type": "code",
      "execution_count": null,
      "metadata": {
        "colab": {
          "base_uri": "https://localhost:8080/"
        },
        "id": "XwQt0F2In_Do",
        "outputId": "88f2f599-1843-4b7c-e24e-071b9e958a6f"
      },
      "outputs": [
        {
          "name": "stdout",
          "output_type": "stream",
          "text": [
            "yes\n"
          ]
        }
      ],
      "source": [
        "x = 0\n",
        "y = 5\n",
        "\n",
        "if x<y:\n",
        "  print(\"yes\")"
      ]
    },
    {
      "cell_type": "code",
      "execution_count": null,
      "metadata": {
        "id": "cytdTeNqos92"
      },
      "outputs": [],
      "source": [
        "if x:\n",
        "  print (\"yes\")"
      ]
    },
    {
      "cell_type": "code",
      "execution_count": null,
      "metadata": {
        "colab": {
          "base_uri": "https://localhost:8080/"
        },
        "id": "wa5PhesPo3P8",
        "outputId": "618423e4-15a0-41ee-b2ec-69aaaf9cc697"
      },
      "outputs": [
        {
          "name": "stdout",
          "output_type": "stream",
          "text": [
            "yes\n",
            "another yes\n"
          ]
        }
      ],
      "source": [
        "if y :\n",
        "  print('yes')\n",
        "  print('another yes')"
      ]
    },
    {
      "cell_type": "code",
      "execution_count": null,
      "metadata": {
        "colab": {
          "base_uri": "https://localhost:8080/"
        },
        "id": "RdXs9_Alo_ol",
        "outputId": "8d9d0232-df7e-43f7-ff7a-f2f012ffe0e7"
      },
      "outputs": [
        {
          "name": "stdout",
          "output_type": "stream",
          "text": [
            "Outer condition is true\n",
            "inner condition 1\n",
            "Between inner condition\n",
            "inner condition 2\n",
            "end outer condition\n"
          ]
        }
      ],
      "source": [
        "if 'foo' in ['foo', 'bar', 'baz']:\n",
        "  print('Outer condition is true')\n",
        "\n",
        "  if 10 <20 :\n",
        "    print('inner condition 1')\n",
        "  print('Between inner condition')\n",
        "\n",
        "  if 10 < 20 :\n",
        "    print('inner condition 2')\n",
        "  print('end outer condition')\n",
        "  "
      ]
    },
    {
      "cell_type": "code",
      "execution_count": 1,
      "metadata": {},
      "outputs": [
        {
          "name": "stdout",
          "output_type": "stream",
          "text": [
            "(first suite)\n",
            "x is small\n"
          ]
        }
      ],
      "source": [
        "x = 20\n",
        "if x < 50:\n",
        "    print('(first suite)')\n",
        "    print('x is small')\n",
        "else:\n",
        "    print('(second suite)')\n",
        "    print('x is large')\n",
        "    "
      ]
    },
    {
      "cell_type": "code",
      "execution_count": 2,
      "metadata": {},
      "outputs": [
        {
          "name": "stdout",
          "output_type": "stream",
          "text": [
            "(second suite)\n",
            "x is large\n"
          ]
        }
      ],
      "source": [
        "x = 120\n",
        "if x < 50:\n",
        "    print('(first suite)')\n",
        "    print('x is small')\n",
        "else:\n",
        "    print('(second suite)')\n",
        "    print('x is large')"
      ]
    },
    {
      "cell_type": "code",
      "execution_count": 3,
      "metadata": {},
      "outputs": [
        {
          "name": "stdout",
          "output_type": "stream",
          "text": [
            "uang tidak cukup\n"
          ]
        }
      ],
      "source": [
        "hargaBuku = 20000\n",
        "hargaMajalah = 5000\n",
        "uang = 2000\n",
        "\n",
        "if uang > hargaBuku :\n",
        "    print('beli buku')\n",
        "else :\n",
        "    print('uang tidak cukup')\n",
        "    "
      ]
    },
    {
      "cell_type": "code",
      "execution_count": 4,
      "metadata": {},
      "outputs": [
        {
          "name": "stdout",
          "output_type": "stream",
          "text": [
            "uang tidak cukup\n"
          ]
        }
      ],
      "source": [
        "hargaBuku = 20000\n",
        "hargaMajalah = 5000\n",
        "uang = 2000\n",
        "\n",
        "if uang > hargaBuku :\n",
        "    print('beli buku')\n",
        "elif uang > hargaMajalah :\n",
        "    print('beli mahalah')\n",
        "else :\n",
        "    print('uang tidak cukup')"
      ]
    },
    {
      "cell_type": "code",
      "execution_count": 5,
      "metadata": {},
      "outputs": [
        {
          "name": "stdout",
          "output_type": "stream",
          "text": [
            "Hello Hacktiv8\n"
          ]
        }
      ],
      "source": [
        "name = 'Hacktiv8'\n",
        "if name == 'Fred':\n",
        "    print('Hello Fred')\n",
        "elif name == 'Xander':\n",
        "    print('Hello Xander')\n",
        "elif name == 'Hacktiv8':\n",
        "    print('Hello Hacktiv8')\n",
        "else:\n",
        "    print('i dont know you are')\n",
        "    "
      ]
    },
    {
      "cell_type": "code",
      "execution_count": 8,
      "metadata": {},
      "outputs": [
        {
          "name": "stdout",
          "output_type": "stream",
          "text": [
            " foo\n"
          ]
        }
      ],
      "source": [
        "\n",
        "if 'a' in 'bar' :\n",
        "    print(' foo')\n",
        "elif 1/0:\n",
        "    print('this wont happen')\n",
        "elif var :\n",
        "    print('This wpnt either')"
      ]
    },
    {
      "cell_type": "code",
      "execution_count": 9,
      "metadata": {},
      "outputs": [
        {
          "name": "stdout",
          "output_type": "stream",
          "text": [
            "1\n",
            "2\n",
            "3\n"
          ]
        }
      ],
      "source": [
        "if 'f' in 'foo' : print('1');print(\"2\");print(\"3\")"
      ]
    },
    {
      "cell_type": "code",
      "execution_count": 10,
      "metadata": {},
      "outputs": [
        {
          "name": "stdout",
          "output_type": "stream",
          "text": [
            "corge\n",
            "grault\n"
          ]
        }
      ],
      "source": [
        "x = 3\n",
        "if x==1:print('foo');print('bar'); print('baz')\n",
        "elif x ==2 : print('qux'); print('quux')\n",
        "else :print('corge');print('grault')"
      ]
    },
    {
      "cell_type": "code",
      "execution_count": null,
      "metadata": {
        "colab": {
          "base_uri": "https://localhost:8080/"
        },
        "id": "Vowlin6TpoN8",
        "outputId": "07b6e220-5f56-43c5-99f2-ac1002eebcb2"
      },
      "outputs": [
        {
          "name": "stdout",
          "output_type": "stream",
          "text": [
            "4\n",
            "3\n",
            "2\n",
            "1\n",
            "0\n"
          ]
        }
      ],
      "source": [
        "n = 5\n",
        "while n>0 :\n",
        "  n -= 1\n",
        "  print(n)"
      ]
    },
    {
      "cell_type": "code",
      "execution_count": 11,
      "metadata": {
        "colab": {
          "base_uri": "https://localhost:8080/"
        },
        "id": "03k-Yx3f3aRk",
        "outputId": "0060f31e-cc20-4ca2-d4eb-6717db357c5d"
      },
      "outputs": [
        {
          "name": "stdout",
          "output_type": "stream",
          "text": [
            "4\n",
            "3\n",
            "loop ended\n"
          ]
        }
      ],
      "source": [
        "n = 5\n",
        "while n>0 :\n",
        "  n-= 1\n",
        "  if n == 2 :\n",
        "    break\n",
        "  print(n)\n",
        "print('loop ended')"
      ]
    },
    {
      "cell_type": "code",
      "execution_count": 12,
      "metadata": {
        "id": "OPEnZ-no4g2k"
      },
      "outputs": [
        {
          "name": "stdout",
          "output_type": "stream",
          "text": [
            "4\n",
            "3\n",
            "1\n",
            "0\n",
            "loop ended\n"
          ]
        }
      ],
      "source": [
        "n = 5\n",
        "while n > 0 :\n",
        "   n -= 1\n",
        "   if n == 2:\n",
        "          continue\n",
        "   print(n)\n",
        "print('loop ended')\n",
        "   "
      ]
    },
    {
      "cell_type": "code",
      "execution_count": 13,
      "metadata": {},
      "outputs": [
        {
          "name": "stdout",
          "output_type": "stream",
          "text": [
            "4\n",
            "3\n",
            "2\n",
            "1\n",
            "0\n",
            "loop ended\n"
          ]
        }
      ],
      "source": [
        "n = 5\n",
        "while n > 0 :\n",
        "   n -= 1\n",
        "   print(n)\n",
        "else :\n",
        "    print('loop ended')"
      ]
    },
    {
      "cell_type": "code",
      "execution_count": 14,
      "metadata": {},
      "outputs": [
        {
          "name": "stdout",
          "output_type": "stream",
          "text": [
            "4\n",
            "3\n",
            "2\n"
          ]
        }
      ],
      "source": [
        "n = 5\n",
        "while n > 0 :\n",
        "   n -= 1\n",
        "   print(n)\n",
        "   if n == 2:\n",
        "          break\n",
        "else:\n",
        "    print('loop done')"
      ]
    },
    {
      "cell_type": "code",
      "execution_count": null,
      "metadata": {},
      "outputs": [],
      "source": [
        "if age < 18 :\n",
        "    if gender == 'M' :\n",
        "        print('Son')\n",
        "    else:\n",
        "        print('daughter')\n",
        "elif age >= 18 and age < 65 :\n",
        "        if gender == 'M' :\n",
        "            print('father')\n",
        "    else:\n",
        "        print('mother')\n",
        "else :\n",
        "        if gender == 'M' :\n",
        "            print('grandfather')\n",
        "    else:\n",
        "        print('grandmother')"
      ]
    },
    {
      "cell_type": "code",
      "execution_count": 15,
      "metadata": {},
      "outputs": [
        {
          "name": "stdout",
          "output_type": "stream",
          "text": [
            "foo\n",
            "> baz\n",
            "> qux\n",
            "bar\n",
            "> baz\n",
            "> qux\n"
          ]
        }
      ],
      "source": [
        "a = ['foo', 'bar']\n",
        "\n",
        "while len(a):\n",
        "    print(a.pop(0))\n",
        "    \n",
        "    b= ['baz', 'qux']\n",
        "    while len(b):\n",
        "        print('>', b.pop(0))"
      ]
    },
    {
      "cell_type": "code",
      "execution_count": 16,
      "metadata": {},
      "outputs": [
        {
          "name": "stdout",
          "output_type": "stream",
          "text": [
            "4\n",
            "3\n",
            "2\n",
            "1\n",
            "0\n"
          ]
        }
      ],
      "source": [
        "n = 5\n",
        "while n> 0 : n -=1; print(n)"
      ]
    },
    {
      "cell_type": "code",
      "execution_count": 17,
      "metadata": {},
      "outputs": [
        {
          "name": "stdout",
          "output_type": "stream",
          "text": [
            "foo\n",
            "bar\n",
            "baz\n"
          ]
        }
      ],
      "source": [
        "a = ['foo', 'bar', 'baz']\n",
        "\n",
        "for i in a :\n",
        "    print(i)"
      ]
    },
    {
      "cell_type": "code",
      "execution_count": 20,
      "metadata": {},
      "outputs": [
        {
          "name": "stdout",
          "output_type": "stream",
          "text": [
            "foo\n",
            "bar\n",
            "baz\n"
          ]
        }
      ],
      "source": [
        "d = {'foo': 1, 'bar':2, 'baz': 3}\n",
        "for k in d :\n",
        "    print(k)"
      ]
    },
    {
      "cell_type": "code",
      "execution_count": 21,
      "metadata": {},
      "outputs": [
        {
          "name": "stdout",
          "output_type": "stream",
          "text": [
            "1\n",
            "2\n",
            "3\n"
          ]
        }
      ],
      "source": [
        "for k in d :\n",
        "    print(d[k])"
      ]
    },
    {
      "cell_type": "code",
      "execution_count": 22,
      "metadata": {},
      "outputs": [
        {
          "name": "stdout",
          "output_type": "stream",
          "text": [
            "1\n",
            "2\n",
            "3\n"
          ]
        }
      ],
      "source": [
        "for k in d.values():\n",
        "    print(k)"
      ]
    },
    {
      "cell_type": "code",
      "execution_count": 23,
      "metadata": {},
      "outputs": [
        {
          "name": "stdout",
          "output_type": "stream",
          "text": [
            "foo : 1\n",
            "bar : 2\n",
            "baz : 3\n"
          ]
        }
      ],
      "source": [
        "for k,v in d.items():\n",
        "    print(k, \":\", v)"
      ]
    },
    {
      "cell_type": "code",
      "execution_count": 24,
      "metadata": {},
      "outputs": [
        {
          "name": "stdout",
          "output_type": "stream",
          "text": [
            "0\n",
            "1\n",
            "2\n",
            "3\n",
            "4\n"
          ]
        }
      ],
      "source": [
        "for n in (0,1,2,3,4):\n",
        "    print(n)"
      ]
    },
    {
      "cell_type": "code",
      "execution_count": 25,
      "metadata": {},
      "outputs": [
        {
          "name": "stdout",
          "output_type": "stream",
          "text": [
            "0\n",
            "1\n",
            "2\n",
            "3\n",
            "4\n"
          ]
        }
      ],
      "source": [
        "x = range(5)\n",
        "\n",
        "for n in x :\n",
        "    print(n)"
      ]
    },
    {
      "cell_type": "code",
      "execution_count": 27,
      "metadata": {},
      "outputs": [
        {
          "name": "stdout",
          "output_type": "stream",
          "text": [
            "foo\n"
          ]
        }
      ],
      "source": [
        "for i in ['foo', 'bar','baz','qux']:\n",
        "    if 'b'in i :\n",
        "        break\n",
        "    print(i)"
      ]
    },
    {
      "cell_type": "code",
      "execution_count": 28,
      "metadata": {},
      "outputs": [
        {
          "name": "stdout",
          "output_type": "stream",
          "text": [
            "foo\n",
            "qux\n"
          ]
        }
      ],
      "source": [
        "for i in ['foo', 'bar','baz','qux']:\n",
        "    if 'b'in i :\n",
        "        continue\n",
        "    print(i)"
      ]
    },
    {
      "cell_type": "code",
      "execution_count": 29,
      "metadata": {},
      "outputs": [
        {
          "name": "stdout",
          "output_type": "stream",
          "text": [
            "foo\n",
            "bar\n",
            "baz\n",
            "qux\n",
            "Done.\n"
          ]
        }
      ],
      "source": [
        "for i in ['foo', 'bar','baz','qux']:\n",
        "    print(i)\n",
        "else :\n",
        "    print('Done.')"
      ]
    },
    {
      "cell_type": "code",
      "execution_count": 31,
      "metadata": {},
      "outputs": [
        {
          "name": "stdout",
          "output_type": "stream",
          "text": [
            "foo\n",
            "bar\n",
            "baz\n",
            "qux\n",
            "Done\n"
          ]
        }
      ],
      "source": [
        "for i in ['foo', 'bar','baz','qux']:\n",
        "    if i == ' bar':\n",
        "        break\n",
        "    print(i)\n",
        "else:\n",
        "    print('Done')"
      ]
    },
    {
      "cell_type": "code",
      "execution_count": 33,
      "metadata": {},
      "outputs": [
        {
          "name": "stdout",
          "output_type": "stream",
          "text": [
            " temperaturnya adalah 7 derajat\n"
          ]
        }
      ],
      "source": [
        "temp = input('Ketikan temperatur yang ingin di konversi :')\n",
        "degree = int(temp[:-1])\n",
        "i_convertion = temp[-1]\n",
        "\n",
        "if i_convertion == \"C\":\n",
        "    result = int(round(9*degree)/5 + 32)\n",
        "elif i_convertion == \"F\":\n",
        "    result = int(round((degree - 32)*5/9))\n",
        "else : \n",
        "    print(\"masukan input yang benar\")\n",
        "\n",
        "print(' temperaturnya adalah', result,'derajat')"
      ]
    },
    {
      "cell_type": "code",
      "execution_count": 34,
      "metadata": {},
      "outputs": [
        {
          "name": "stdout",
          "output_type": "stream",
          "text": [
            "wawa\n"
          ]
        }
      ],
      "source": [
        "while True :\n",
        "    msg = input('ketikan Karakter:').lower()\n",
        "    print(msg)\n",
        "    if msg == 'stop':\n",
        "        break"
      ]
    },
    {
      "cell_type": "code",
      "execution_count": null,
      "metadata": {},
      "outputs": [],
      "source": []
    }
  ],
  "metadata": {
    "colab": {
      "name": "Sesi2.ipynb",
      "provenance": []
    },
    "kernelspec": {
      "display_name": "Python 3.9.6 64-bit",
      "language": "python",
      "name": "python3"
    },
    "language_info": {
      "codemirror_mode": {
        "name": "ipython",
        "version": 3
      },
      "file_extension": ".py",
      "mimetype": "text/x-python",
      "name": "python",
      "nbconvert_exporter": "python",
      "pygments_lexer": "ipython3",
      "version": "3.9.6"
    },
    "vscode": {
      "interpreter": {
        "hash": "82ed002fa2d4956f5c6aec99bcefe0f73a9f79882f3c9e2319b14958a5896ac5"
      }
    }
  },
  "nbformat": 4,
  "nbformat_minor": 0
}
