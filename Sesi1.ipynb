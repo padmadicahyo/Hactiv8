{
  "nbformat": 4,
  "nbformat_minor": 0,
  "metadata": {
    "colab": {
      "name": "Sesi1.ipynb",
      "provenance": []
    },
    "kernelspec": {
      "name": "python3",
      "display_name": "Python 3"
    },
    "language_info": {
      "name": "python"
    }
  },
  "cells": [
    {
      "cell_type": "markdown",
      "source": [
        "Data Type\n"
      ],
      "metadata": {
        "id": "OVsslr9UHiNY"
      }
    },
    {
      "cell_type": "code",
      "execution_count": null,
      "metadata": {
        "colab": {
          "base_uri": "https://localhost:8080/"
        },
        "id": "_SjVgpy8-Bxw",
        "outputId": "fe749ebd-5873-4c6d-c19f-08039d6a37cc"
      },
      "outputs": [
        {
          "output_type": "stream",
          "name": "stdout",
          "text": [
            "124\n"
          ]
        }
      ],
      "source": [
        "print(123+1)"
      ]
    },
    {
      "cell_type": "code",
      "source": [
        "print(type(10))"
      ],
      "metadata": {
        "colab": {
          "base_uri": "https://localhost:8080/"
        },
        "id": "GWk4jxPc-R6t",
        "outputId": "1d3391a6-2ad5-4515-f5c0-ae0288d3069b"
      },
      "execution_count": null,
      "outputs": [
        {
          "output_type": "stream",
          "name": "stdout",
          "text": [
            "<class 'int'>\n"
          ]
        }
      ]
    },
    {
      "cell_type": "code",
      "source": [
        "print(type(2.4))"
      ],
      "metadata": {
        "colab": {
          "base_uri": "https://localhost:8080/"
        },
        "id": "ncFEckan-WRr",
        "outputId": "42bb79f6-b477-4bff-f99f-31e6787acb16"
      },
      "execution_count": null,
      "outputs": [
        {
          "output_type": "stream",
          "name": "stdout",
          "text": [
            "<class 'float'>\n"
          ]
        }
      ]
    },
    {
      "cell_type": "code",
      "source": [
        "print(type(\"Hello there\"))"
      ],
      "metadata": {
        "colab": {
          "base_uri": "https://localhost:8080/"
        },
        "id": "tsSPOw2M-mOe",
        "outputId": "462594c9-5328-4714-f271-3e5a6b77035b"
      },
      "execution_count": null,
      "outputs": [
        {
          "output_type": "stream",
          "name": "stdout",
          "text": [
            "<class 'str'>\n"
          ]
        }
      ]
    },
    {
      "cell_type": "code",
      "source": [
        "print(type(False))"
      ],
      "metadata": {
        "colab": {
          "base_uri": "https://localhost:8080/"
        },
        "id": "R6LaXuQc-pcK",
        "outputId": "97ca5ce5-6a9a-4174-a3f0-b69bf4e04cc0"
      },
      "execution_count": null,
      "outputs": [
        {
          "output_type": "stream",
          "name": "stdout",
          "text": [
            "<class 'bool'>\n"
          ]
        }
      ]
    },
    {
      "cell_type": "code",
      "source": [
        "n = 1\n",
        "a=b=c=300\n",
        "\n",
        "var = \"aaa\"\n",
        "print(var)\n",
        "\n",
        "var = 123\n",
        "print(var)\n",
        "\n",
        "print(n)\n",
        "print(a)\n",
        "print(b)\n",
        "print(c)"
      ],
      "metadata": {
        "colab": {
          "base_uri": "https://localhost:8080/"
        },
        "id": "H8ePJnRQ-wDt",
        "outputId": "adb2874b-e21d-43ad-9f47-ebc41baccaf4"
      },
      "execution_count": null,
      "outputs": [
        {
          "output_type": "stream",
          "name": "stdout",
          "text": [
            "aaa\n",
            "123\n",
            "1\n",
            "300\n",
            "300\n",
            "300\n"
          ]
        }
      ]
    },
    {
      "cell_type": "code",
      "source": [
        "a=6\n",
        "b=5\n",
        "print(a+b)\n",
        "print(a-b)\n",
        "print(a*b)\n",
        "print(a/b)\n"
      ],
      "metadata": {
        "colab": {
          "base_uri": "https://localhost:8080/"
        },
        "id": "X4XoJ3hh-0H6",
        "outputId": "0c4b88de-934b-430d-dad0-4bbdbf8f1a2e"
      },
      "execution_count": null,
      "outputs": [
        {
          "output_type": "stream",
          "name": "stdout",
          "text": [
            "11\n",
            "1\n",
            "30\n",
            "1.2\n"
          ]
        }
      ]
    },
    {
      "cell_type": "markdown",
      "source": [
        "comparison Operator\n"
      ],
      "metadata": {
        "id": "VJq_KlyQ_lnk"
      }
    },
    {
      "cell_type": "code",
      "source": [
        "x = 10\n",
        "y = 20\n",
        "\n",
        "print(x==y)\n",
        "print(x != y)\n",
        "print(x <= y)\n",
        "print(x >= y)\n"
      ],
      "metadata": {
        "colab": {
          "base_uri": "https://localhost:8080/"
        },
        "id": "wEg3iu9D_UMf",
        "outputId": "6cf8465d-f567-4c8d-af93-570b71628964"
      },
      "execution_count": null,
      "outputs": [
        {
          "output_type": "stream",
          "name": "stdout",
          "text": [
            "False\n",
            "True\n",
            "True\n",
            "False\n"
          ]
        }
      ]
    },
    {
      "cell_type": "markdown",
      "source": [
        "str manipulation"
      ],
      "metadata": {
        "id": "4HxVEyjAANol"
      }
    },
    {
      "cell_type": "code",
      "source": [
        "s = 'foo'\n",
        "t = 'bar'\n",
        "u = 'baz'\n",
        "\n",
        "print(s+t+u)\n",
        "print('hactib'+ 'ptp')\n",
        "print(s*4)\n",
        "print(s in 'that food for us')\n",
        "print(s in 'that good for us')"
      ],
      "metadata": {
        "colab": {
          "base_uri": "https://localhost:8080/"
        },
        "id": "qWqPjxcL_2gQ",
        "outputId": "3d434460-1fba-4106-f7e9-cfa45d290c15"
      },
      "execution_count": null,
      "outputs": [
        {
          "output_type": "stream",
          "name": "stdout",
          "text": [
            "foobarbaz\n",
            "hactibptp\n",
            "foofoofoofoo\n",
            "True\n",
            "False\n"
          ]
        }
      ]
    },
    {
      "cell_type": "code",
      "source": [
        "s = 'HackTIV8'\n",
        "\n",
        "print(s.capitalize())\n",
        "print(s.lower())\n",
        "print(s.swapcase())\n",
        "print(s.title())\n",
        "print(s.upper())"
      ],
      "metadata": {
        "colab": {
          "base_uri": "https://localhost:8080/"
        },
        "id": "4bpTq-i9AfoF",
        "outputId": "1b0c082e-208e-4509-822a-649622bb55ac"
      },
      "execution_count": null,
      "outputs": [
        {
          "output_type": "stream",
          "name": "stdout",
          "text": [
            "Hacktiv8\n",
            "hacktiv8\n",
            "hACKtiv8\n",
            "Hacktiv8\n",
            "HACKTIV8\n"
          ]
        }
      ]
    },
    {
      "cell_type": "markdown",
      "source": [
        "List"
      ],
      "metadata": {
        "id": "GGBnVTeKA9Kq"
      }
    },
    {
      "cell_type": "code",
      "source": [
        "a = ['foo', 'bar', 'baz','qux']\n",
        "b = ['baz', 'qux', 'bar', 'foo']\n",
        "c = [21.43,'foobar',3,False,3.14]\n",
        "print(a)\n",
        "print(a==b)\n",
        "print(c)\n",
        "print(a[0])\n",
        "print(a[3])\n",
        "print(a[-1])\n",
        "print(a[-3])\n",
        "print(a[2:5])\n",
        "print(a+['grault','garply'])\n",
        "print(a*2)\n",
        "print(len(a))\n",
        "print(min(a))\n",
        "print(max(a))\n"
      ],
      "metadata": {
        "colab": {
          "base_uri": "https://localhost:8080/"
        },
        "id": "sUFBE00xA1TY",
        "outputId": "c1660995-baa4-4c8e-c7ca-a058e6356879"
      },
      "execution_count": null,
      "outputs": [
        {
          "output_type": "stream",
          "name": "stdout",
          "text": [
            "['foo', 'bar', 'baz', 'qux']\n",
            "False\n",
            "[21.43, 'foobar', 3, False, 3.14]\n",
            "foo\n",
            "qux\n",
            "qux\n",
            "bar\n",
            "['baz', 'qux']\n",
            "['foo', 'bar', 'baz', 'qux', 'grault', 'garply']\n",
            "['foo', 'bar', 'baz', 'qux', 'foo', 'bar', 'baz', 'qux']\n",
            "4\n",
            "bar\n",
            "qux\n"
          ]
        }
      ]
    },
    {
      "cell_type": "code",
      "source": [
        "a[2] = 10\n",
        "a[-3] = 'ooo'\n",
        "print(a)"
      ],
      "metadata": {
        "colab": {
          "base_uri": "https://localhost:8080/"
        },
        "id": "Z0J0hrI3BesF",
        "outputId": "e27b8ef6-4a6d-40a8-e22b-4372fd8c592c"
      },
      "execution_count": null,
      "outputs": [
        {
          "output_type": "stream",
          "name": "stdout",
          "text": [
            "['foo', 'ooo', 10, 'qux']\n"
          ]
        }
      ]
    },
    {
      "cell_type": "code",
      "source": [
        "del a[3]\n",
        "print(a)"
      ],
      "metadata": {
        "colab": {
          "base_uri": "https://localhost:8080/"
        },
        "id": "IalFa3WOCRCP",
        "outputId": "d58667d6-fa4c-401a-cfab-f33ebf7ac6d1"
      },
      "execution_count": null,
      "outputs": [
        {
          "output_type": "stream",
          "name": "stdout",
          "text": [
            "['foo', 'ooo', 10]\n"
          ]
        }
      ]
    },
    {
      "cell_type": "markdown",
      "source": [
        "Dictionary\n"
      ],
      "metadata": {
        "id": "MjI49fejFCXr"
      }
    },
    {
      "cell_type": "code",
      "source": [
        "MLB_team = {\n",
        "    'Colorado':'Rockies',\n",
        "    'Boston':'Red SOx',\n",
        "    'Minnesota':'Twins',\n",
        "    'Milwaukee' : 'Brewers',\n",
        "    'Seattle':'Mariners'\n",
        "}\n"
      ],
      "metadata": {
        "id": "94uXZICjCU4L"
      },
      "execution_count": null,
      "outputs": []
    },
    {
      "cell_type": "code",
      "source": [
        "print(MLB_team['Minnesota'])\n",
        "print(MLB_team['Colorado'])"
      ],
      "metadata": {
        "colab": {
          "base_uri": "https://localhost:8080/"
        },
        "id": "URmjFE7UFeCI",
        "outputId": "851b887c-0f2b-4510-d2cd-3ac0f965eda7"
      },
      "execution_count": null,
      "outputs": [
        {
          "output_type": "stream",
          "name": "stdout",
          "text": [
            "Twins\n",
            "Rockies\n"
          ]
        }
      ]
    },
    {
      "cell_type": "code",
      "source": [
        "MLB_team['Kansas City'] ='Royals'\n",
        "MLB_team['Seattle'] = 'Seahawks'\n",
        "MLB_team\n"
      ],
      "metadata": {
        "colab": {
          "base_uri": "https://localhost:8080/"
        },
        "id": "Q0xIScwOFmPj",
        "outputId": "23136744-4578-407a-ae2c-b486e5cd491d"
      },
      "execution_count": null,
      "outputs": [
        {
          "output_type": "execute_result",
          "data": {
            "text/plain": [
              "{'Colorado': 'Rockies',\n",
              " 'Boston': 'Red SOx',\n",
              " 'Minnesota': 'Twins',\n",
              " 'Milwaukee': 'Brewers',\n",
              " 'Seattle': 'Seahawks',\n",
              " 'Kansas City': 'Royals'}"
            ]
          },
          "metadata": {},
          "execution_count": 61
        }
      ]
    },
    {
      "cell_type": "code",
      "source": [
        "del MLB_team['Seattle']\n",
        "MLB_team"
      ],
      "metadata": {
        "colab": {
          "base_uri": "https://localhost:8080/"
        },
        "id": "kTtdOYK4FwOl",
        "outputId": "394716bd-029c-4791-c40f-0d68ba8c81e8"
      },
      "execution_count": null,
      "outputs": [
        {
          "output_type": "execute_result",
          "data": {
            "text/plain": [
              "{'Colorado': 'Rockies',\n",
              " 'Boston': 'Red SOx',\n",
              " 'Minnesota': 'Twins',\n",
              " 'Milwaukee': 'Brewers',\n",
              " 'Kansas City': 'Royals'}"
            ]
          },
          "metadata": {},
          "execution_count": 62
        }
      ]
    },
    {
      "cell_type": "code",
      "source": [
        "person = {}\n",
        "type(person)\n",
        "\n",
        "person['frame'] = 'Hack'\n",
        "person['inflame'] = 'PTP'\n",
        "person['age'] = 51\n",
        "person['spouse'] = 'Edna'\n",
        "person['Children'] = ['Ralph', 'Betty', 'Joey']\n",
        "person['Pet'] = {'dog': 'FIdo', 'cat': 'Fox'}\n",
        "\n",
        "person"
      ],
      "metadata": {
        "colab": {
          "base_uri": "https://localhost:8080/"
        },
        "id": "2hbEP73iGBMP",
        "outputId": "5cb40bf1-e35c-43c5-d752-1bbfe1595b40"
      },
      "execution_count": null,
      "outputs": [
        {
          "output_type": "execute_result",
          "data": {
            "text/plain": [
              "{'frame': 'Hack',\n",
              " 'inflame': 'PTP',\n",
              " 'age': 51,\n",
              " 'spouse': 'Edna',\n",
              " 'Children': ['Ralph', 'Betty', 'Joey'],\n",
              " 'Pet': {'dog': 'FIdo', 'cat': 'Fox'}}"
            ]
          },
          "metadata": {},
          "execution_count": 63
        }
      ]
    },
    {
      "cell_type": "code",
      "source": [
        "d = {'a': 10, 'b': 20, 'c':30}\n",
        "\n",
        "print(d.items())\n",
        "print(d.keys())\n",
        "print(d.values())"
      ],
      "metadata": {
        "colab": {
          "base_uri": "https://localhost:8080/"
        },
        "id": "pRBVP5tTGk8a",
        "outputId": "fc315142-4464-43ba-af44-00da719ae4fe"
      },
      "execution_count": null,
      "outputs": [
        {
          "output_type": "stream",
          "name": "stdout",
          "text": [
            "dict_items([('a', 10), ('b', 20), ('c', 30)])\n",
            "dict_keys(['a', 'b', 'c'])\n",
            "dict_values([10, 20, 30])\n"
          ]
        }
      ]
    },
    {
      "cell_type": "markdown",
      "source": [
        "Line Continuation"
      ],
      "metadata": {
        "id": "E2B3A5EzHnWx"
      }
    },
    {
      "cell_type": "code",
      "source": [
        "person1 = 40\n",
        "person2 = 16\n",
        "person3 = 72\n",
        "\n",
        "someone_is_of_working_age = (person1 >= 18 and person1 <= 65) or (person2 >=18 and person2 <= 65) or (person3 >=18 and person3 <= 65)\n",
        "someone_is_of_working_age"
      ],
      "metadata": {
        "colab": {
          "base_uri": "https://localhost:8080/"
        },
        "id": "Ulx5PnqEHWZ_",
        "outputId": "2139bb48-003c-48b6-9c61-be2a77058b96"
      },
      "execution_count": null,
      "outputs": [
        {
          "output_type": "execute_result",
          "data": {
            "text/plain": [
              "True"
            ]
          },
          "metadata": {},
          "execution_count": 65
        }
      ]
    },
    {
      "cell_type": "code",
      "source": [
        "someone_is_of_working_age = (\n",
        "    (person1 >= 18 and person1 <= 65) or\n",
        "    (person2 >=18 and person2 <= 65) or\n",
        "    (person3 >=18 and person3 <= 65)\n",
        ")\n",
        "someone_is_of_working_age"
      ],
      "metadata": {
        "colab": {
          "base_uri": "https://localhost:8080/"
        },
        "id": "8YpXwGd-INJq",
        "outputId": "29531c7b-0d36-4b22-c4b0-ac0f08ad6e4d"
      },
      "execution_count": null,
      "outputs": [
        {
          "output_type": "execute_result",
          "data": {
            "text/plain": [
              "True"
            ]
          },
          "metadata": {},
          "execution_count": 66
        }
      ]
    },
    {
      "cell_type": "code",
      "source": [
        ""
      ],
      "metadata": {
        "id": "VNSmT4dvI2Fq"
      },
      "execution_count": null,
      "outputs": []
    }
  ]
}